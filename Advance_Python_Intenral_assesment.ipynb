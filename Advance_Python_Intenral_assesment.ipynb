{
  "nbformat": 4,
  "nbformat_minor": 0,
  "metadata": {
    "colab": {
      "provenance": []
    },
    "kernelspec": {
      "name": "python3",
      "display_name": "Python 3"
    },
    "language_info": {
      "name": "python"
    }
  },
  "cells": [
    {
      "cell_type": "markdown",
      "source": [
        "## 1. Dictionary Comprehension Exercise"
      ],
      "metadata": {
        "id": "mDfgaCrsUQma"
      }
    },
    {
      "cell_type": "code",
      "execution_count": null,
      "metadata": {
        "colab": {
          "base_uri": "https://localhost:8080/"
        },
        "id": "nsS9eVKMUNHj",
        "outputId": "4c6b1252-3118-4583-fa4f-efc537e6835d"
      },
      "outputs": [
        {
          "output_type": "stream",
          "name": "stdout",
          "text": [
            "{1: 1, 2: 4, 3: 9, 4: 16, 5: 25, 6: 36, 7: 49, 8: 64, 9: 81, 10: 100}\n"
          ]
        }
      ],
      "source": [
        "# Creating a dictionary where keys are numbers from 1 to 10 and values are their squares\n",
        "squares_dict = {x: x**2 for x in range(1, 11)}\n",
        "print(squares_dict)"
      ]
    },
    {
      "cell_type": "markdown",
      "source": [
        "## 2. List Comprehension Exercise"
      ],
      "metadata": {
        "id": "sJ5SXIWHUs50"
      }
    },
    {
      "cell_type": "code",
      "source": [
        "# Creating a list of even numbers from 1 to 20\n",
        "even_numbers = [x for x in range(1, 21) if x % 2 == 0]\n",
        "print(even_numbers)\n"
      ],
      "metadata": {
        "colab": {
          "base_uri": "https://localhost:8080/"
        },
        "id": "8IY-P_IxUqst",
        "outputId": "a48d2e5f-759f-41c3-9266-4ce8364f037e"
      },
      "execution_count": null,
      "outputs": [
        {
          "output_type": "stream",
          "name": "stdout",
          "text": [
            "[2, 4, 6, 8, 10, 12, 14, 16, 18, 20]\n"
          ]
        }
      ]
    },
    {
      "cell_type": "markdown",
      "source": [
        "## 3. Nested Dictionary Comprehension"
      ],
      "metadata": {
        "id": "fDmy96tfUv95"
      }
    },
    {
      "cell_type": "code",
      "source": [
        "# Creating a nested dictionary with tuples (x, y) as keys and sum of x and y as values\n",
        "nested_dict = {(x, y): x + y for x in range(2) for y in range(2)}\n",
        "print(nested_dict)\n",
        "\n"
      ],
      "metadata": {
        "colab": {
          "base_uri": "https://localhost:8080/"
        },
        "id": "3urV4UpvVACV",
        "outputId": "36fd8bbe-82a6-4464-f98c-6332f0c4aaac"
      },
      "execution_count": null,
      "outputs": [
        {
          "output_type": "stream",
          "name": "stdout",
          "text": [
            "{(0, 0): 0, (0, 1): 1, (1, 0): 1, (1, 1): 2}\n"
          ]
        }
      ]
    },
    {
      "cell_type": "markdown",
      "source": [
        "## 4. Lambda and filter()"
      ],
      "metadata": {
        "id": "PAytBUP4UwFx"
      }
    },
    {
      "cell_type": "code",
      "source": [
        "# Filtering odd numbers from a list using lambda and filter()\n",
        "numbers = list(range(1, 11))\n",
        "odd_numbers = list(filter(lambda x: x % 2 != 0, numbers))\n",
        "print(odd_numbers)\n"
      ],
      "metadata": {
        "colab": {
          "base_uri": "https://localhost:8080/"
        },
        "id": "XKBTZKh_VEgB",
        "outputId": "6515ad50-564d-4537-f101-13f8e75aa0fe"
      },
      "execution_count": null,
      "outputs": [
        {
          "output_type": "stream",
          "name": "stdout",
          "text": [
            "[1, 3, 5, 7, 9]\n"
          ]
        }
      ]
    },
    {
      "cell_type": "markdown",
      "source": [
        "## 5. Email Validation"
      ],
      "metadata": {
        "id": "iV1jzS3MUwIV"
      }
    },
    {
      "cell_type": "code",
      "source": [
        "import re\n",
        "\n",
        "# Validating email address\n",
        "def validate_email(email):\n",
        "    pattern = r'^[a-zA-Z0-9_.+-]+@[a-zA-Z0-9-]+\\.[a-zA-Z0-9-.]+$'\n",
        "    if re.match(pattern, email):\n",
        "        print(\"Valid Email\")\n",
        "    else:\n",
        "        print(\"Invalid Email\")\n",
        "\n",
        "validate_email(\"abc@test.com\")\n",
        "validate_email(\"invalid-email.com\")\n"
      ],
      "metadata": {
        "colab": {
          "base_uri": "https://localhost:8080/"
        },
        "id": "IRkJ91ahVRr1",
        "outputId": "bad0c469-4286-480b-af1a-bf0c183b8df7"
      },
      "execution_count": null,
      "outputs": [
        {
          "output_type": "stream",
          "name": "stdout",
          "text": [
            "Valid Email\n",
            "Invalid Email\n"
          ]
        }
      ]
    },
    {
      "cell_type": "markdown",
      "source": [
        "## 6. Password Strength Checker"
      ],
      "metadata": {
        "id": "jW8-Ajt4UwK9"
      }
    },
    {
      "cell_type": "code",
      "source": [
        "def check_password_strength(password):\n",
        "    pattern = r'^(?=.*[A-Z])(?=.*[a-z])(?=.*\\d)(?=.*[@$!%*?&])[A-Za-z\\d@$!%*?&]{8,18}$'\n",
        "    if re.match(pattern, password):\n",
        "        print(\"Valid Password\")\n",
        "    else:\n",
        "        print(\"Invalid Password\")\n",
        "\n",
        "check_password_strength(\"Harry@ss123\")\n",
        "check_password_strength(\"weakpass\")"
      ],
      "metadata": {
        "colab": {
          "base_uri": "https://localhost:8080/"
        },
        "id": "2gYEjePnVSBv",
        "outputId": "056c129e-6454-44c1-f79d-2bff111d1c8f"
      },
      "execution_count": null,
      "outputs": [
        {
          "output_type": "stream",
          "name": "stdout",
          "text": [
            "Valid Password\n",
            "Invalid Password\n"
          ]
        }
      ]
    },
    {
      "cell_type": "markdown",
      "source": [
        "## 7. Extracting URLs"
      ],
      "metadata": {
        "id": "_f89IXiKUwNf"
      }
    },
    {
      "cell_type": "code",
      "source": [
        "def extract_urls(text):\n",
        "    pattern = r'https?://[^\\s]+'\n",
        "    urls = re.findall(pattern, text)\n",
        "    return urls\n",
        "\n",
        "text = \"Visit https://example.com and http://another-example.com for more info.\"\n",
        "print(extract_urls(text))\n"
      ],
      "metadata": {
        "colab": {
          "base_uri": "https://localhost:8080/"
        },
        "id": "lfLuZtMdVSET",
        "outputId": "aa4333f1-f0db-44bc-c75b-b246eb80bccc"
      },
      "execution_count": null,
      "outputs": [
        {
          "output_type": "stream",
          "name": "stdout",
          "text": [
            "['https://example.com', 'http://another-example.com']\n"
          ]
        }
      ]
    },
    {
      "cell_type": "markdown",
      "source": [
        "## 8. UPI ID Validator"
      ],
      "metadata": {
        "id": "XJWGEcpEUwQY"
      }
    },
    {
      "cell_type": "code",
      "source": [
        "def validate_upi_id(upi_id):\n",
        "    pattern = r'^[a-zA-Z0-9]+([-\\.]?[a-zA-Z0-9])*@([a-zA-Z0-9.-]+)$'\n",
        "    if re.match(pattern, upi_id):\n",
        "        print(\"Valid UPI ID\")\n",
        "    else:\n",
        "        print(\"Invalid UPI ID\")\n",
        "\n",
        "validate_upi_id(\"user@upi.com\")\n",
        "validate_upi_id(\"user upi@com\")"
      ],
      "metadata": {
        "colab": {
          "base_uri": "https://localhost:8080/"
        },
        "id": "obEyyeH4VSHM",
        "outputId": "d728e809-f122-4340-9aed-e95a0efff95d"
      },
      "execution_count": null,
      "outputs": [
        {
          "output_type": "stream",
          "name": "stdout",
          "text": [
            "Valid UPI ID\n",
            "Invalid UPI ID\n"
          ]
        }
      ]
    },
    {
      "cell_type": "markdown",
      "source": [
        "## 9. Bank Account Class"
      ],
      "metadata": {
        "id": "x9d6KFo0Vyaz"
      }
    },
    {
      "cell_type": "code",
      "source": [
        "class BankAccount:\n",
        "    def __init__(self, account_number, account_holder, balance=0, overdraft_limit=0):\n",
        "        self.account_number = account_number\n",
        "        self.account_holder = account_holder\n",
        "        self.balance = balance\n",
        "        self.overdraft_limit = overdraft_limit\n",
        "\n",
        "    def deposit(self, amount):\n",
        "        self.balance += amount\n",
        "        print(f\"Deposited {amount}. Current balance: {self.balance}\")\n",
        "\n",
        "    def withdraw(self, amount):\n",
        "        if amount <= self.balance + self.overdraft_limit:\n",
        "            self.balance -= amount\n",
        "            print(f\"Withdrew {amount}. Current balance: {self.balance}\")\n",
        "        else:\n",
        "            print(f\"Insufficient balance. You have a limit of {self.balance + self.overdraft_limit}.\")\n",
        "\n",
        "    def check_balance(self):\n",
        "        print(f\"Current balance: {self.balance}\")\n",
        "\n",
        "# Test\n",
        "account = BankAccount(\"12345\", \"John Doe\", 1000, 500)  # Overdraft limit of 500\n",
        "account.deposit(300)\n",
        "account.withdraw(1200)\n",
        "account.check_balance()"
      ],
      "metadata": {
        "colab": {
          "base_uri": "https://localhost:8080/"
        },
        "id": "1mWF-9H_VSJ-",
        "outputId": "fad1b20a-56d7-49e3-c991-e42a34f638cc"
      },
      "execution_count": null,
      "outputs": [
        {
          "output_type": "stream",
          "name": "stdout",
          "text": [
            "Deposited 300. Current balance: 1300\n",
            "Withdrew 1200. Current balance: 100\n",
            "Current balance: 100\n"
          ]
        }
      ]
    },
    {
      "cell_type": "markdown",
      "source": [
        "## 10. Inheritance Example"
      ],
      "metadata": {
        "id": "YqXoNtloVysw"
      }
    },
    {
      "cell_type": "code",
      "source": [
        "class Person:\n",
        "    def __init__(self, name, age):\n",
        "        self.name = name\n",
        "        self.age = age\n",
        "\n",
        "    def greet(self):\n",
        "        print(f\"Hello, my name is {self.name} and I am {self.age} years old.\")\n",
        "\n",
        "class Student(Person):\n",
        "    def __init__(self, name, age, student_id, grade):\n",
        "        super().__init__(name, age)\n",
        "        self.student_id = student_id\n",
        "        self.grade = grade\n",
        "\n",
        "    def display_details(self):\n",
        "        print(f\"Name: {self.name}, Age: {self.age}, Student ID: {self.student_id}, Grade: {self.grade}\")\n",
        "\n",
        "    def greet(self):\n",
        "        super().greet()\n",
        "        print(f\"I am a student and my grade is {self.grade}.\")\n",
        "\n",
        "# Test\n",
        "student = Student(\"Alice\", 21, \"S12345\", \"A\")\n",
        "student.display_details()\n",
        "student.greet()\n"
      ],
      "metadata": {
        "colab": {
          "base_uri": "https://localhost:8080/"
        },
        "id": "mCdLx4cUVSM2",
        "outputId": "9003a918-b8b2-41de-926e-a4061095322c"
      },
      "execution_count": null,
      "outputs": [
        {
          "output_type": "stream",
          "name": "stdout",
          "text": [
            "Name: Alice, Age: 21, Student ID: S12345, Grade: A\n",
            "Hello, my name is Alice and I am 21 years old.\n",
            "I am a student and my grade is A.\n"
          ]
        }
      ]
    },
    {
      "cell_type": "markdown",
      "source": [
        "## 11. Polymorphism with Shapes"
      ],
      "metadata": {
        "id": "JJv8PSFFVyeS"
      }
    },
    {
      "cell_type": "code",
      "source": [
        "class Shape:\n",
        "    def area(self):\n",
        "        pass\n",
        "\n",
        "class Circle(Shape):\n",
        "    def __init__(self, radius):\n",
        "        self.radius = radius\n",
        "\n",
        "    def area(self):\n",
        "        return 3.14 * self.radius ** 2\n",
        "\n",
        "class Square(Shape):\n",
        "    def __init__(self, side):\n",
        "        self.side = side\n",
        "\n",
        "    def area(self):\n",
        "        return self.side ** 2\n",
        "\n",
        "class Rectangle(Shape):\n",
        "    def __init__(self, length, width):\n",
        "        self.length = length\n",
        "        self.width = width\n",
        "\n",
        "    def area(self):\n",
        "        return self.length * self.width\n",
        "\n",
        "# Test\n",
        "circle = Circle(5)\n",
        "square = Square(4)\n",
        "rectangle = Rectangle(4, 6)\n",
        "\n",
        "print(f\"Circle Area: {circle.area()}\")\n",
        "print(f\"Square Area: {square.area()}\")\n",
        "print(f\"Rectangle Area: {rectangle.area()}\")"
      ],
      "metadata": {
        "colab": {
          "base_uri": "https://localhost:8080/"
        },
        "id": "H3UXSWLDW1xz",
        "outputId": "a7b81295-9efb-4afa-a849-eadba4731430"
      },
      "execution_count": null,
      "outputs": [
        {
          "output_type": "stream",
          "name": "stdout",
          "text": [
            "Circle Area: 78.5\n",
            "Square Area: 16\n",
            "Rectangle Area: 24\n"
          ]
        }
      ]
    },
    {
      "cell_type": "markdown",
      "source": [
        "## 12. Encapsulation in a Class"
      ],
      "metadata": {
        "id": "cXeCktbkVyhu"
      }
    },
    {
      "cell_type": "code",
      "source": [
        "class Motorcycle:\n",
        "    def __init__(self, color, engine_size, max_speed):\n",
        "        self.__color = color\n",
        "        self.__engine_size = engine_size\n",
        "        self.__max_speed = max_speed\n",
        "\n",
        "    def set_max_speed(self, speed):\n",
        "        if speed > 0:\n",
        "            self.__max_speed = speed\n",
        "        else:\n",
        "            print(\"Speed must be positive.\")\n",
        "\n",
        "    def get_max_speed(self):\n",
        "        return self.__max_speed\n",
        "\n",
        "# Test\n",
        "motorcycle = Motorcycle(\"Red\", \"150cc\", 120)\n",
        "motorcycle.set_max_speed(150)\n",
        "print(f\"Motorcycle max speed: {motorcycle.get_max_speed()} km/h\")\n",
        "motorcycle.set_max_speed(-50)  # Invalid speed"
      ],
      "metadata": {
        "colab": {
          "base_uri": "https://localhost:8080/"
        },
        "id": "px-V7I85XAPn",
        "outputId": "d84c2285-1656-4d0f-f509-9c38c6ed0958"
      },
      "execution_count": null,
      "outputs": [
        {
          "output_type": "stream",
          "name": "stdout",
          "text": [
            "Motorcycle max speed: 150 km/h\n",
            "Speed must be positive.\n"
          ]
        }
      ]
    },
    {
      "cell_type": "markdown",
      "source": [
        "## 13. Basic Decorator Creation"
      ],
      "metadata": {
        "id": "D9kgYgKcVykw"
      }
    },
    {
      "cell_type": "code",
      "source": [
        "def log_decorator(func):\n",
        "    def wrapper():\n",
        "        print(f\"Calling function: {func.__name__}\")\n",
        "        result = func()\n",
        "        print(f\"Function {func.__name__} completed.\")\n",
        "        return result\n",
        "    return wrapper\n",
        "\n",
        "@log_decorator\n",
        "def greet():\n",
        "    return \"Hello!\"\n",
        "\n",
        "print(greet())"
      ],
      "metadata": {
        "colab": {
          "base_uri": "https://localhost:8080/"
        },
        "id": "ptmQ20esXWfV",
        "outputId": "f240eb6d-2547-43dd-db24-ef0ad9337513"
      },
      "execution_count": null,
      "outputs": [
        {
          "output_type": "stream",
          "name": "stdout",
          "text": [
            "Calling function: greet\n",
            "Function greet completed.\n",
            "Hello!\n"
          ]
        }
      ]
    },
    {
      "cell_type": "markdown",
      "source": [
        "## 14. Timing Decorator"
      ],
      "metadata": {
        "id": "WMnLBWODVynT"
      }
    },
    {
      "cell_type": "code",
      "source": [
        "import time\n",
        "\n",
        "def time_it(func):\n",
        "    def wrapper(*args, **kwargs):\n",
        "        start = time.time()\n",
        "        result = func(*args, **kwargs)\n",
        "        end = time.time()\n",
        "        print(f\"Execution Time: {end - start} seconds\")\n",
        "        return result\n",
        "    return wrapper\n",
        "\n",
        "@time_it\n",
        "def long_function():\n",
        "    time.sleep(3)  # Simulating a delay\n",
        "    return \"Function completed.\"\n",
        "\n",
        "print(long_function())"
      ],
      "metadata": {
        "colab": {
          "base_uri": "https://localhost:8080/"
        },
        "id": "u6Kp209oXbPI",
        "outputId": "733acb00-68db-472e-8cce-e82aa5c11695"
      },
      "execution_count": null,
      "outputs": [
        {
          "output_type": "stream",
          "name": "stdout",
          "text": [
            "Execution Time: 3.0030713081359863 seconds\n",
            "Function completed.\n"
          ]
        }
      ]
    },
    {
      "cell_type": "markdown",
      "source": [
        "## 15. Parameterized Decorator"
      ],
      "metadata": {
        "id": "qj3XaglfVyp6"
      }
    },
    {
      "cell_type": "code",
      "source": [
        "def repeat(n):\n",
        "    def decorator(func):\n",
        "        def wrapper(*args, **kwargs):\n",
        "            for _ in range(n):\n",
        "                result = func(*args, **kwargs)\n",
        "            return result\n",
        "        return wrapper\n",
        "    return decorator\n",
        "\n",
        "@repeat(4)\n",
        "def say_hello():\n",
        "    print(\"Hello!\")\n",
        "\n",
        "say_hello()"
      ],
      "metadata": {
        "colab": {
          "base_uri": "https://localhost:8080/"
        },
        "id": "HnOuiWdvXbYo",
        "outputId": "ffb06cea-1798-466d-f94d-4791f233b65e"
      },
      "execution_count": null,
      "outputs": [
        {
          "output_type": "stream",
          "name": "stdout",
          "text": [
            "Hello!\n",
            "Hello!\n",
            "Hello!\n",
            "Hello!\n"
          ]
        }
      ]
    },
    {
      "cell_type": "markdown",
      "source": [
        "## 16. Caching with functools.lru_cache"
      ],
      "metadata": {
        "id": "1qKliDQFXq9d"
      }
    },
    {
      "cell_type": "code",
      "source": [
        "from functools import lru_cache\n",
        "\n",
        "@lru_cache(maxsize=None)\n",
        "def factorial(n):\n",
        "    if n == 0:\n",
        "        return 1\n",
        "    return n * factorial(n - 1)\n",
        "\n",
        "# Test\n",
        "print(factorial(5))  # This will be cached\n",
        "print(factorial(10))  # First calculation, cache will store result"
      ],
      "metadata": {
        "colab": {
          "base_uri": "https://localhost:8080/"
        },
        "id": "GHc2wqkvXbbo",
        "outputId": "1a9c1774-3688-4ea6-8828-cd038ff27993"
      },
      "execution_count": null,
      "outputs": [
        {
          "output_type": "stream",
          "name": "stdout",
          "text": [
            "120\n",
            "3628800\n"
          ]
        }
      ]
    },
    {
      "cell_type": "markdown",
      "source": [
        "## 17. Registration Decorator"
      ],
      "metadata": {
        "id": "1TXBdr0GX5M_"
      }
    },
    {
      "cell_type": "code",
      "source": [
        "\n",
        "registered_functions = []\n",
        "\n",
        "def register(func):\n",
        "    registered_functions.append(func)\n",
        "    return func\n",
        "\n",
        "@register\n",
        "def function_one():\n",
        "    return \"Function One\"\n",
        "\n",
        "@register\n",
        "def function_two():\n",
        "    return \"Function Two\"\n",
        "\n",
        "@register\n",
        "def function_three():\n",
        "    return \"Function Three\"\n",
        "\n",
        "print(\"Registered functions:\", [func.__name__ for func in registered_functions])"
      ],
      "metadata": {
        "colab": {
          "base_uri": "https://localhost:8080/"
        },
        "id": "-fbHxL9sXbe7",
        "outputId": "29b950fe-1906-4f04-fd72-f9b7b61405cb"
      },
      "execution_count": null,
      "outputs": [
        {
          "output_type": "stream",
          "name": "stdout",
          "text": [
            "Registered functions: ['function_one', 'function_two', 'function_three']\n"
          ]
        }
      ]
    },
    {
      "cell_type": "markdown",
      "source": [
        "## 18. Closure Example"
      ],
      "metadata": {
        "id": "gVWoH15MX5T2"
      }
    },
    {
      "cell_type": "code",
      "source": [
        "def make_counter():\n",
        "    count = 0\n",
        "    def counter():\n",
        "        nonlocal count\n",
        "        count += 1\n",
        "        print(count)\n",
        "    return counter\n",
        "\n",
        "counter = make_counter()\n",
        "counter()\n",
        "counter()\n",
        "\n"
      ],
      "metadata": {
        "colab": {
          "base_uri": "https://localhost:8080/"
        },
        "id": "1UrZGmRQUTsF",
        "outputId": "c0c81c23-75d0-4939-e47a-1953d4e1798a"
      },
      "execution_count": null,
      "outputs": [
        {
          "output_type": "stream",
          "name": "stdout",
          "text": [
            "1\n",
            "2\n"
          ]
        }
      ]
    },
    {
      "cell_type": "markdown",
      "source": [
        "## 19. Stacked Decorators"
      ],
      "metadata": {
        "id": "iBdaLKfGX5YE"
      }
    },
    {
      "cell_type": "code",
      "source": [
        "def bold(func):\n",
        "    def wrapper():\n",
        "        return f\"<b>{func()}</b>\"\n",
        "    return wrapper\n",
        "\n",
        "def italic(func):\n",
        "    def wrapper():\n",
        "        return f\"<i>{func()}</i>\"\n",
        "    return wrapper\n",
        "\n",
        "@italic\n",
        "@bold\n",
        "def greet():\n",
        "    return \"Hello, World!\"\n",
        "\n",
        "print(greet())\n",
        "\n"
      ],
      "metadata": {
        "colab": {
          "base_uri": "https://localhost:8080/"
        },
        "id": "BvhmSTSAWMdr",
        "outputId": "9649f8e7-edbe-48de-dfe3-ab74f1c26425"
      },
      "execution_count": null,
      "outputs": [
        {
          "output_type": "stream",
          "name": "stdout",
          "text": [
            "<i><b>Hello, World!</b></i>\n"
          ]
        }
      ]
    },
    {
      "cell_type": "markdown",
      "source": [
        "## 20. Multiple Dispatch Decorator"
      ],
      "metadata": {
        "id": "Veg5oA0QWPXf"
      }
    },
    {
      "cell_type": "code",
      "source": [
        "from functools import singledispatch\n",
        "\n",
        "@singledispatch\n",
        "def greet(arg):\n",
        "    return f\"Hello {arg}\"\n",
        "\n",
        "@greet.register(int)\n",
        "def _(arg):\n",
        "    return f\"Hello, you passed an integer: {arg}\"\n",
        "\n",
        "@greet.register(str)\n",
        "def _(arg):\n",
        "    return f\"Hello, you passed a string: {arg}\"\n",
        "\n",
        "@greet.register(float)\n",
        "def _(arg):\n",
        "    return f\"Hello, you passed a float: {arg}\"\n",
        "\n",
        "# Test\n",
        "print(greet(42))       # Integer\n",
        "print(greet(\"World\"))  # String\n",
        "print(greet(3.14))     # Float\n"
      ],
      "metadata": {
        "colab": {
          "base_uri": "https://localhost:8080/"
        },
        "id": "YNkV8r3GWQMj",
        "outputId": "efbac952-d0cc-4d00-f9a5-82a2ca03d062"
      },
      "execution_count": null,
      "outputs": [
        {
          "output_type": "stream",
          "name": "stdout",
          "text": [
            "Hello, you passed an integer: 42\n",
            "Hello, you passed a string: World\n",
            "Hello, you passed a float: 3.14\n"
          ]
        }
      ]
    }
  ]
}